{
 "cells": [
  {
   "cell_type": "code",
   "execution_count": 2,
   "id": "77e68aab",
   "metadata": {},
   "outputs": [],
   "source": [
    "from sklearn.model_selection import train_test_split\n",
    "from sklearn import linear_model\n",
    "\n",
    "from sklearn.metrics import mean_squared_error, r2_score\n",
    "import math\n",
    "import pandas as pd"
   ]
  },
  {
   "cell_type": "code",
   "execution_count": 4,
   "id": "3f0463db",
   "metadata": {},
   "outputs": [
    {
     "name": "stdout",
     "output_type": "stream",
     "text": [
      "   No  X1 transaction date  X2 house age  \\\n",
      "0   1             2012.917          32.0   \n",
      "1   2             2012.917          19.5   \n",
      "2   3             2013.583          13.3   \n",
      "3   4             2013.500          13.3   \n",
      "4   5             2012.833           5.0   \n",
      "\n",
      "   X3 distance to the nearest MRT station  X4 number of convenience stores  \\\n",
      "0                                84.87882                               10   \n",
      "1                               306.59470                                9   \n",
      "2                               561.98450                                5   \n",
      "3                               561.98450                                5   \n",
      "4                               390.56840                                5   \n",
      "\n",
      "   X5 latitude  X6 longitude  Y house price of unit area  \n",
      "0     24.98298     121.54024                        37.9  \n",
      "1     24.98034     121.53951                        42.2  \n",
      "2     24.98746     121.54391                        47.3  \n",
      "3     24.98746     121.54391                        54.8  \n",
      "4     24.97937     121.54245                        43.1  \n"
     ]
    }
   ],
   "source": [
    "def load():\n",
    "\n",
    "\t#SOLUTION START( ~ 1 line of code)\n",
    "\tdf=pd.read_csv('https://raw.githubusercontent.com/XccelerateOrg/august2022ml-JonasChan0414/master/data/realestate.csv?token=GHSAT0AAAAAABZDGRRPMBIGIR5EQPUFOBASY3CS5QA')\n",
    "\treturn df\n",
    "\n",
    "df = load()\n",
    "print(df.head())"
   ]
  },
  {
   "cell_type": "code",
   "execution_count": 5,
   "id": "74e36b51",
   "metadata": {},
   "outputs": [],
   "source": [
    "# Since there is no need of 'No' column and 'transcation date',\n",
    "# so we will drop them\n",
    "df.drop(['No'],axis='columns', inplace=True)\n",
    "df.drop(['X1 transaction date'], axis='columns' ,inplace=True)\n"
   ]
  },
  {
   "cell_type": "code",
   "execution_count": 6,
   "id": "95d8ff27",
   "metadata": {},
   "outputs": [
    {
     "name": "stdout",
     "output_type": "stream",
     "text": [
      "(414, 6)\n"
     ]
    }
   ],
   "source": [
    "#Question2\n",
    "def getShape():\n",
    "\n",
    "    print(df.shape)\n",
    "\n",
    "getShape()\n"
   ]
  },
  {
   "cell_type": "code",
   "execution_count": 7,
   "id": "ebe03542",
   "metadata": {},
   "outputs": [
    {
     "name": "stdout",
     "output_type": "stream",
     "text": [
      "<class 'pandas.core.frame.DataFrame'>\n",
      "RangeIndex: 414 entries, 0 to 413\n",
      "Data columns (total 6 columns):\n",
      " #   Column                                  Non-Null Count  Dtype  \n",
      "---  ------                                  --------------  -----  \n",
      " 0   X2 house age                            414 non-null    float64\n",
      " 1   X3 distance to the nearest MRT station  414 non-null    float64\n",
      " 2   X4 number of convenience stores         414 non-null    int64  \n",
      " 3   X5 latitude                             414 non-null    float64\n",
      " 4   X6 longitude                            414 non-null    float64\n",
      " 5   Y house price of unit area              414 non-null    float64\n",
      "dtypes: float64(5), int64(1)\n",
      "memory usage: 19.5 KB\n",
      "None\n"
     ]
    }
   ],
   "source": [
    "def getInfo():\n",
    "\t'''\n",
    "\treturn the information of information about a DataFrame\n",
    "\tincluding the index dtype and columns, non-null values and memory usage.\n",
    "\t'''\n",
    "\t#SOLUTION START( ~ 1 line of code)\n",
    "\tdf.info(verbose=True)\n",
    "\n",
    "\t#SOLUTION END\n",
    "\n",
    "print(getInfo())"
   ]
  },
  {
   "cell_type": "code",
   "execution_count": 8,
   "id": "c5835d70",
   "metadata": {},
   "outputs": [
    {
     "name": "stdout",
     "output_type": "stream",
     "text": [
      "X2 house age                              0\n",
      "X3 distance to the nearest MRT station    0\n",
      "X4 number of convenience stores           0\n",
      "X5 latitude                               0\n",
      "X6 longitude                              0\n",
      "Y house price of unit area                0\n",
      "dtype: int64\n"
     ]
    }
   ],
   "source": [
    "def checkNull():\n",
    "\t'''\n",
    "\tthis function check if any null value\n",
    "\texpected output:\n",
    "\tNo                                        0\n",
    "\tX1 transaction date                       0\n",
    "\tX2 house age                              0\n",
    "\tX3 distance to the nearest MRT station    0\n",
    "\tX4 number of convenience stores           0\n",
    "\tX5 latitude                               0\n",
    "\tX6 longitude                              0\n",
    "\tY house price of unit area                0\n",
    "\tdtype: int64\n",
    "\t'''\n",
    "\n",
    "\t#SOLUTION START( ~ 1 line of code)\n",
    "\tprint (df.isnull().sum())\n",
    "\n",
    "\t#SOLUTION END\n",
    "\n",
    "\n",
    "checkNull()\n"
   ]
  },
  {
   "cell_type": "code",
   "execution_count": 9,
   "id": "9623c484",
   "metadata": {},
   "outputs": [
    {
     "name": "stdout",
     "output_type": "stream",
     "text": [
      "       X2 house age  X3 distance to the nearest MRT station  \\\n",
      "count    414.000000                              414.000000   \n",
      "mean      17.712560                             1083.885689   \n",
      "std       11.392485                             1262.109595   \n",
      "min        0.000000                               23.382840   \n",
      "25%        9.025000                              289.324800   \n",
      "50%       16.100000                              492.231300   \n",
      "75%       28.150000                             1454.279000   \n",
      "max       43.800000                             6488.021000   \n",
      "\n",
      "       X4 number of convenience stores  X5 latitude  X6 longitude  \\\n",
      "count                       414.000000   414.000000    414.000000   \n",
      "mean                          4.094203    24.969030    121.533361   \n",
      "std                           2.945562     0.012410      0.015347   \n",
      "min                           0.000000    24.932070    121.473530   \n",
      "25%                           1.000000    24.963000    121.528085   \n",
      "50%                           4.000000    24.971100    121.538630   \n",
      "75%                           6.000000    24.977455    121.543305   \n",
      "max                          10.000000    25.014590    121.566270   \n",
      "\n",
      "       Y house price of unit area  \n",
      "count                  414.000000  \n",
      "mean                    37.980193  \n",
      "std                     13.606488  \n",
      "min                      7.600000  \n",
      "25%                     27.700000  \n",
      "50%                     38.450000  \n",
      "75%                     46.600000  \n",
      "max                    117.500000  \n"
     ]
    }
   ],
   "source": [
    "def getStatistic():\n",
    "\n",
    "\t#SOLUTION START( ~ 1 line of code)\n",
    "    print(df.describe())\n",
    "\t#SOLUTION END\n",
    "\n",
    "getStatistic()"
   ]
  },
  {
   "cell_type": "code",
   "execution_count": 10,
   "id": "01e438cc",
   "metadata": {},
   "outputs": [
    {
     "name": "stdout",
     "output_type": "stream",
     "text": [
      "   Y house price of unit area\n",
      "0                        37.9\n",
      "1                        42.2\n",
      "2                        47.3\n",
      "3                        54.8\n",
      "4                        43.1\n",
      "\n",
      "\n",
      "   X2 house age  X3 distance to the nearest MRT station  \\\n",
      "0          32.0                                84.87882   \n",
      "1          19.5                               306.59470   \n",
      "2          13.3                               561.98450   \n",
      "3          13.3                               561.98450   \n",
      "4           5.0                               390.56840   \n",
      "\n",
      "   X4 number of convenience stores  X5 latitude  X6 longitude  \n",
      "0                               10     24.98298     121.54024  \n",
      "1                                9     24.98034     121.53951  \n",
      "2                                5     24.98746     121.54391  \n",
      "3                                5     24.98746     121.54391  \n",
      "4                                5     24.97937     121.54245  \n"
     ]
    }
   ],
   "source": [
    "df_y = df[['Y house price of unit area']]\n",
    "df_X = df.drop(['Y house price of unit area'],axis='columns')\n",
    "\n",
    "print(df_y.head())\n",
    "print(\"\\n\")\n",
    "print(df_X.head())"
   ]
  },
  {
   "cell_type": "code",
   "execution_count": 12,
   "id": "f671478a",
   "metadata": {},
   "outputs": [
    {
     "name": "stdout",
     "output_type": "stream",
     "text": [
      "(331, 5) (331, 1) (83, 5) (83, 1)\n"
     ]
    }
   ],
   "source": [
    "#Question 6\n",
    "# Split the data into 80%training/20%testing sets\n",
    "# IMPORTANT:for grading purpose,  please set the same seed random_state = 42\n",
    "\n",
    "\n",
    "\t\n",
    "\t#SOLUTION START( ~ 1-2 line of code)\n",
    "X_train, X_test, y_train, y_test = train_test_split(df_X,df_y,test_size=0.2)\n",
    "print(X_train.shape, y_train.shape, X_test.shape, y_test.shape)\n",
    "\t#SOLUTION END\n",
    "\n",
    "\n",
    "\n"
   ]
  },
  {
   "cell_type": "code",
   "execution_count": 17,
   "id": "3e3d3f1f",
   "metadata": {},
   "outputs": [
    {
     "data": {
      "text/plain": [
       "(array([[-2.38418894e-01, -4.51295751e-03,  1.16696314e+00,\n",
       "          2.04323274e+02, -7.61745119e+00]]),\n",
       " array([-4133.79309746]),\n",
       " 46.89279994218441,\n",
       " 6.847831769413178,\n",
       " 0.7200083888824524)"
      ]
     },
     "execution_count": 17,
     "metadata": {},
     "output_type": "execute_result"
    }
   ],
   "source": [
    "#Question 9\n",
    "import numpy as np\n",
    "\n",
    "def makeModel():\n",
    "    lr=linear_model.LinearRegression()\n",
    "    lr.fit(X_train,y_train)\n",
    "    \n",
    "    y_pred = lr.predict(X_test)\n",
    "    coefficients = lr.coef_\n",
    "    intercept = lr.intercept_\n",
    "    mse = mean_squared_error(y_test, y_pred)\n",
    "    rmse = np.sqrt(mean_squared_error(y_test, y_pred))\n",
    "    r2score = r2_score(y_test, y_pred)\n",
    "\n",
    "\n",
    "\n",
    "    return (coefficients, intercept, mse, rmse, r2score)\n",
    "\n",
    "makeModel()\n"
   ]
  },
  {
   "cell_type": "code",
   "execution_count": null,
   "id": "f10dbe7c",
   "metadata": {},
   "outputs": [],
   "source": []
  }
 ],
 "metadata": {
  "kernelspec": {
   "display_name": "Python 3 (ipykernel)",
   "language": "python",
   "name": "python3"
  },
  "language_info": {
   "codemirror_mode": {
    "name": "ipython",
    "version": 3
   },
   "file_extension": ".py",
   "mimetype": "text/x-python",
   "name": "python",
   "nbconvert_exporter": "python",
   "pygments_lexer": "ipython3",
   "version": "3.9.12"
  }
 },
 "nbformat": 4,
 "nbformat_minor": 5
}
